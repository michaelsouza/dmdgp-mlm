{
 "cells": [
  {
   "cell_type": "markdown",
   "metadata": {},
   "source": [
    "# Load packages"
   ]
  },
  {
   "cell_type": "code",
   "execution_count": null,
   "metadata": {},
   "outputs": [],
   "source": [
    "import os\n",
    "import numpy as np\n",
    "import pandas as pd\n",
    "from tqdm import tqdm\n",
    "import plotly.express as px\n",
    "import matplotlib.pylab as plt\n",
    "from scipy.sparse import coo_matrix\n",
    "from codes.dmdgpOPT import read_nmr"
   ]
  },
  {
   "cell_type": "markdown",
   "metadata": {},
   "source": [
    "# View NMR"
   ]
  },
  {
   "cell_type": "code",
   "execution_count": null,
   "metadata": {},
   "outputs": [],
   "source": [
    "numNodes, numEdges, D = read_nmr('DATA_D4_N50_S10/pid_0000.nmr')\n",
    "print('numNodes:', numNodes, '\\nnumEdges:', numEdges)\n",
    "ai, aj, aa = list(zip(*D))\n",
    "A = coo_matrix((aa,(ai,aj)), (numNodes, numNodes))\n",
    "plt.spy(A, markersize=1);"
   ]
  },
  {
   "cell_type": "code",
   "execution_count": null,
   "metadata": {},
   "outputs": [],
   "source": [
    "wdir = 'DATA_D4_N50_S10'\n",
    "\n",
    "numNodes = int(wdir.split('_N')[1].split('_')[0])\n",
    "numSamples = int(wdir.split('_S')[1].split('_')[0])\n",
    "print('numNodes:%d, numSamples:%d' %(numNodes, numSamples))\n",
    "X, S = [], []\n",
    "for fname in os.listdir(wdir):\n",
    "    if fname.endswith('.csv'):       \n",
    "        fcsv = os.path.join(wdir, fname)\n",
    "        X.append(np.loadtxt(fcsv,delimiter=','))\n",
    "    elif fname.endswith('.seq'):\n",
    "        fseq = os.path.join(wdir, fname)\n",
    "        S.append(np.loadtxt(fseq,delimiter=','))\n",
    "print('len(X):%d, len(S):%d' % (len(X), len(S)))"
   ]
  },
  {
   "cell_type": "code",
   "execution_count": null,
   "metadata": {},
   "outputs": [],
   "source": [
    "# Reference:\n",
    "# 1. Neumaier, Arnold. \"Molecular modeling of proteins and mathematical prediction \n",
    "# of protein structure.\" SIAM review 39.3 (1997): 407-460.\n",
    "\n",
    "W = [] # dihedral angles\n",
    "for x in X:\n",
    "    for i in range(3, len(x)):\n",
    "        p = x[i-2] - x[i-3]\n",
    "        r = x[i-1] - x[i-2]\n",
    "        q = x[i-0] - x[i-1]\n",
    "        pxr = np.cross(p,r)\n",
    "        rxq = np.cross(r,q)\n",
    "        qxp = np.cross(q,p)\n",
    "        norm_r = np.linalg.norm(r)\n",
    "        norm_pxr = np.linalg.norm(pxr)\n",
    "        norm_rxq = np.linalg.norm(rxq)        \n",
    "        cos_w = np.dot(pxr, rxq) / (norm_pxr * norm_rxq)\n",
    "        sin_w = np.dot(qxp, r) * norm_r / (norm_pxr * norm_rxq)\n",
    "        w = np.arctan2(sin_w, cos_w)\n",
    "        if np.abs(np.abs(w) - np.pi) < 1E-8:\n",
    "            w = np.pi\n",
    "        W.append(w)\n",
    "W = np.array(W)"
   ]
  },
  {
   "cell_type": "code",
   "execution_count": null,
   "metadata": {},
   "outputs": [],
   "source": [
    "# histogram of W\n",
    "df = {'Torsion Angles (degrees)': np.degrees(W)}\n",
    "fig = px.histogram(df, x=\"Torsion Angles (degrees)\")\n",
    "fig.show()"
   ]
  },
  {
   "cell_type": "code",
   "execution_count": null,
   "metadata": {},
   "outputs": [],
   "source": [
    "B = [] # percentage of ones\n",
    "for s in S:\n",
    "    B.append(np.sum(s) / len(s))\n",
    "\n",
    "# histogram of W\n",
    "df = {\"Percentage of 1's\": B}\n",
    "fig = px.histogram(df, x=\"Percentage of 1's\")\n",
    "fig.show()"
   ]
  },
  {
   "cell_type": "markdown",
   "metadata": {},
   "source": [
    "# Estimate instance difficult"
   ]
  },
  {
   "cell_type": "code",
   "execution_count": null,
   "metadata": {},
   "outputs": [],
   "source": [
    "import os\n",
    "import pandas as pd\n",
    "\n",
    "\n",
    "def count_preds(numNodes: int, D: list):\n",
    "    K = np.zeros((numNodes,), dtype=int)\n",
    "    for i, j, dij in D:\n",
    "        if i > j: # ensure i < j\n",
    "            i, j = j, i\n",
    "        K[j] += 1\n",
    "    return K\n",
    "    \n",
    "\n",
    "df = {'fn':[], 'num_K_LT_4':[]} # num_K_LT_4\n",
    "wdir = 'DATA_D4_N50_S10'\n",
    "for fn in sorted(os.listdir(wdir)):\n",
    "    if not fn.endswith('.nmr'):\n",
    "        continue\n",
    "    numNodes, numEdges, D = read_nmr(os.path.join(wdir, fn))\n",
    "    K = count_preds(numNodes, D)\n",
    "    df['fn'].append(fn)\n",
    "    df['num_K_LT_4'].append(np.sum(K < 4) - 4)\n",
    "\n",
    "df = pd.DataFrame(df)\n",
    "print('numNodes:', numNodes)\n",
    "df"
   ]
  },
  {
   "cell_type": "code",
   "execution_count": null,
   "metadata": {},
   "outputs": [],
   "source": [
    "df = {'fn':[], 'sample':[], 'tElapsed':[], 'max_d':[]}\n",
    "for fn in ['run1.log', 'run2.log', 'run3.log']:        \n",
    "    with open(fn, 'r') as fid:\n",
    "        for row in fid:\n",
    "            if 'sample' in row:\n",
    "                sample = int(row.split()[-1])\n",
    "            if 'max_abs(d)' in row:\n",
    "                max_d = float(row.split()[-1])\n",
    "            if 'tElapsed' in row:\n",
    "                tElapsed = float(row.split()[-1])\n",
    "                df['fn'].append(fn)\n",
    "                df['sample'].append(sample)\n",
    "                df['tElapsed'].append(tElapsed)\n",
    "                df['max_d'].append(max_d)\n",
    "\n",
    "df = pd.DataFrame(df)\n",
    "df.sort_values(by=['sample'])"
   ]
  },
  {
   "cell_type": "code",
   "execution_count": null,
   "metadata": {},
   "outputs": [],
   "source": [
    "df = {'fn':[], 'sample':[], 'tElapsed':[], 'max_d':[]}\n",
    "for fn in ['runA.log']:        \n",
    "    with open(fn, 'r') as fid:\n",
    "        for row in fid:\n",
    "            if 'sample' in row:\n",
    "                sample = int(row.split()[-1])\n",
    "            if 'max_abs(d)' in row:\n",
    "                max_d = float(row.split()[-1])\n",
    "            if 'tElapsed' in row:\n",
    "                tElapsed = float(row.split()[-1])\n",
    "                df['fn'].append(fn)\n",
    "                df['sample'].append(sample)\n",
    "                df['tElapsed'].append(tElapsed)\n",
    "                df['max_d'].append(max_d)\n",
    "\n",
    "df = pd.DataFrame(df)\n",
    "print('numSolved: ', np.sum(df['max_d'] < 1E-3), 'out of', len(df))"
   ]
  },
  {
   "cell_type": "code",
   "execution_count": null,
   "metadata": {},
   "outputs": [],
   "source": []
  }
 ],
 "metadata": {
  "kernelspec": {
   "display_name": "Python 3.9.7 ('base')",
   "language": "python",
   "name": "python3"
  },
  "language_info": {
   "codemirror_mode": {
    "name": "ipython",
    "version": 3
   },
   "file_extension": ".py",
   "mimetype": "text/x-python",
   "name": "python",
   "nbconvert_exporter": "python",
   "pygments_lexer": "ipython3",
   "version": "3.9.7"
  },
  "orig_nbformat": 4,
  "vscode": {
   "interpreter": {
    "hash": "586ad1ed5c97141e2437e681efbf1ec0adcd17d830cf5af2ca3d2819e743e158"
   }
  }
 },
 "nbformat": 4,
 "nbformat_minor": 2
}
