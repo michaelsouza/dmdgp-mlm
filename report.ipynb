{
 "cells": [
  {
   "cell_type": "markdown",
   "metadata": {},
   "source": [
    "# Load packages"
   ]
  },
  {
   "cell_type": "code",
   "execution_count": null,
   "metadata": {},
   "outputs": [],
   "source": [
    "import os\n",
    "import numpy as np\n",
    "import pandas as pd\n",
    "from tqdm import tqdm\n",
    "import plotly.express as px"
   ]
  },
  {
   "cell_type": "markdown",
   "metadata": {},
   "source": [
    "# View NMR"
   ]
  },
  {
   "cell_type": "code",
   "execution_count": null,
   "metadata": {},
   "outputs": [],
   "source": [
    "import matplotlib.pylab as plt\n",
    "from scipy.sparse import coo_matrix"
   ]
  },
  {
   "cell_type": "code",
   "execution_count": null,
   "metadata": {},
   "outputs": [],
   "source": [
    "plt.spy(A, markersize=1);"
   ]
  },
  {
   "cell_type": "code",
   "execution_count": null,
   "metadata": {},
   "outputs": [],
   "source": [
    "wdir = 'DATA_N50_S1000'\n",
    "\n",
    "nnodes = int(wdir.split('_')[1].replace('N',''))\n",
    "nsamples = int(wdir.split('_')[2].replace('S',''))\n",
    "print('nnodes:%d, nsamples:%d' %(nnodes, nsamples))\n",
    "X, S = [], []\n",
    "for fname in os.listdir(wdir):\n",
    "    if fname.endswith('.csv'):       \n",
    "        fcsv = os.path.join(wdir, fname)\n",
    "        X.append(np.loadtxt(fcsv,delimiter=','))\n",
    "    elif fname.endswith('.seq'):\n",
    "        fseq = os.path.join(wdir, fname)\n",
    "        S.append(np.loadtxt(fseq,delimiter=','))\n",
    "print('len(X):%d, len(S):%d' % (len(X), len(S)))"
   ]
  },
  {
   "cell_type": "code",
   "execution_count": null,
   "metadata": {},
   "outputs": [],
   "source": [
    "# Reference:\n",
    "# 1. Neumaier, Arnold. \"Molecular modeling of proteins and mathematical prediction \n",
    "# of protein structure.\" SIAM review 39.3 (1997): 407-460.\n",
    "\n",
    "W = [] # dihedral angles\n",
    "for x in X:\n",
    "    for i in range(3, len(x)):\n",
    "        p = x[i-2] - x[i-3]\n",
    "        r = x[i-1] - x[i-2]\n",
    "        q = x[i-0] - x[i-1]\n",
    "        pxr = np.cross(p,r)\n",
    "        rxq = np.cross(r,q)\n",
    "        qxp = np.cross(q,p)\n",
    "        norm_r = np.linalg.norm(r)\n",
    "        norm_pxr = np.linalg.norm(pxr)\n",
    "        norm_rxq = np.linalg.norm(rxq)        \n",
    "        cos_w = np.dot(pxr, rxq) / (norm_pxr * norm_rxq)\n",
    "        sin_w = np.dot(qxp, r) * norm_r / (norm_pxr * norm_rxq)\n",
    "        w = np.arctan2(sin_w, cos_w)\n",
    "        if np.abs(np.abs(w) - np.pi) < 1E-8:\n",
    "            w = np.pi\n",
    "        W.append(w)\n",
    "W = np.array(W)"
   ]
  },
  {
   "cell_type": "code",
   "execution_count": null,
   "metadata": {},
   "outputs": [],
   "source": [
    "# histogram of W\n",
    "df = {'Torsion Angles (degrees)': np.degrees(W)}\n",
    "fig = px.histogram(df, x=\"Torsion Angles (degrees)\")\n",
    "fig.show()"
   ]
  },
  {
   "cell_type": "code",
   "execution_count": null,
   "metadata": {},
   "outputs": [],
   "source": [
    "B = [] # percentage of ones\n",
    "for s in S:\n",
    "    B.append(np.sum(s) / len(s))\n",
    "\n",
    "# histogram of W\n",
    "df = {\"Percentage of 1's\": B}\n",
    "fig = px.histogram(df, x=\"Percentage of 1's\")\n",
    "fig.show()"
   ]
  },
  {
   "cell_type": "markdown",
   "metadata": {},
   "source": [
    "# Estimate instance difficult"
   ]
  },
  {
   "cell_type": "code",
   "execution_count": null,
   "metadata": {},
   "outputs": [],
   "source": [
    "import os\n",
    "import pandas as pd\n",
    "from codes.dmdgp_ML import *\n",
    "\n",
    "\n",
    "def count_preds(numNodes: int, D: list):\n",
    "    K = np.zeros((numNodes,), dtype=int)\n",
    "    for i, j, dij in D:\n",
    "        if i > j: # ensure i < j\n",
    "            i, j = j, i\n",
    "        K[j] += 1\n",
    "    return K\n",
    "    \n",
    "\n",
    "df = {'fn':[], 'K_lt_4':[]}\n",
    "wdir = 'DATA_D4_N50_S10'\n",
    "for fn in sorted(os.listdir(wdir)):\n",
    "    if not fn.endswith('.nmr'):\n",
    "        continue\n",
    "    numNodes, numEdges, D = read_nmr(os.path.join(wdir, fn))\n",
    "    K = count_preds(numNodes, D)\n",
    "    df['fn'].append(fn)\n",
    "    df['K_lt_4'].append(np.sum(K < 4) - 4)\n",
    "\n",
    "df = pd.DataFrame(df)\n",
    "df"
   ]
  },
  {
   "cell_type": "code",
   "execution_count": null,
   "metadata": {},
   "outputs": [],
   "source": [
    "numNodes, numEdges, D = read_nmr('DATA_D4_N50_S10/pid_0009.nmr')\n",
    "K = count_preds(numNodes, D)\n",
    "K"
   ]
  }
 ],
 "metadata": {
  "kernelspec": {
   "display_name": "Python 3.9.7 ('base')",
   "language": "python",
   "name": "python3"
  },
  "language_info": {
   "codemirror_mode": {
    "name": "ipython",
    "version": 3
   },
   "file_extension": ".py",
   "mimetype": "text/x-python",
   "name": "python",
   "nbconvert_exporter": "python",
   "pygments_lexer": "ipython3",
   "version": "3.9.7"
  },
  "orig_nbformat": 4,
  "vscode": {
   "interpreter": {
    "hash": "586ad1ed5c97141e2437e681efbf1ec0adcd17d830cf5af2ca3d2819e743e158"
   }
  }
 },
 "nbformat": 4,
 "nbformat_minor": 2
}
