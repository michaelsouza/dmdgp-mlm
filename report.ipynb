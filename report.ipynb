{
 "cells": [
  {
   "cell_type": "code",
   "execution_count": null,
   "metadata": {},
   "outputs": [],
   "source": [
    "import os\n",
    "import numpy as np\n",
    "import pandas as pd\n",
    "import plotly.express as px\n",
    "from tqdm import tqdm"
   ]
  },
  {
   "cell_type": "code",
   "execution_count": null,
   "metadata": {},
   "outputs": [],
   "source": [
    "wdir = 'DATA_N50_S1000'\n",
    "\n",
    "nnodes = int(wdir.split('_')[1].replace('N',''))\n",
    "nsamples = int(wdir.split('_')[2].replace('S',''))\n",
    "print('nnodes:%d, nsamples:%d' %(nnodes, nsamples))\n",
    "X, S = [], []\n",
    "for fname in os.listdir(wdir):\n",
    "    if fname.endswith('.csv'):       \n",
    "        fcsv = os.path.join(wdir, fname)\n",
    "        X.append(np.loadtxt(fcsv,delimiter=','))\n",
    "    elif fname.endswith('.seq'):\n",
    "        fseq = os.path.join(wdir, fname)\n",
    "        S.append(np.loadtxt(fseq,delimiter=','))\n",
    "print('len(X):%d, len(S):%d' % (len(X), len(S)))"
   ]
  },
  {
   "cell_type": "code",
   "execution_count": null,
   "metadata": {},
   "outputs": [],
   "source": [
    "# Reference:\n",
    "# 1. Neumaier, Arnold. \"Molecular modeling of proteins and mathematical prediction \n",
    "# of protein structure.\" SIAM review 39.3 (1997): 407-460.\n",
    "\n",
    "W = [] # dihedral angles\n",
    "for x in X:\n",
    "    for i in range(3, len(x)):\n",
    "        p = x[i-2] - x[i-3]\n",
    "        r = x[i-1] - x[i-2]\n",
    "        q = x[i-0] - x[i-1]\n",
    "        pxr = np.cross(p,r)\n",
    "        rxq = np.cross(r,q)\n",
    "        qxp = np.cross(q,p)\n",
    "        norm_r = np.linalg.norm(r)\n",
    "        norm_pxr = np.linalg.norm(pxr)\n",
    "        norm_rxq = np.linalg.norm(rxq)        \n",
    "        cos_w = np.dot(pxr, rxq) / (norm_pxr * norm_rxq)\n",
    "        sin_w = np.dot(qxp, r) * norm_r / (norm_pxr * norm_rxq)\n",
    "        w = np.arctan2(sin_w, cos_w)\n",
    "        if np.abs(np.abs(w) - np.pi) < 1E-8:\n",
    "            w = np.pi\n",
    "        W.append(w)\n",
    "W = np.array(W)"
   ]
  },
  {
   "cell_type": "code",
   "execution_count": null,
   "metadata": {},
   "outputs": [],
   "source": [
    "# histogram of W\n",
    "df = {'Torsion Angles (degrees)': np.degrees(W)}\n",
    "fig = px.histogram(df, x=\"Torsion Angles (degrees)\")\n",
    "fig.show()"
   ]
  },
  {
   "cell_type": "code",
   "execution_count": null,
   "metadata": {},
   "outputs": [],
   "source": [
    "B = [] # percentage of ones\n",
    "for s in S:\n",
    "    B.append(np.sum(s) / len(s))\n",
    "\n",
    "# histogram of W\n",
    "df = {\"Percentage of 1's\": B}\n",
    "fig = px.histogram(df, x=\"Percentage of 1's\")\n",
    "fig.show()"
   ]
  }
 ],
 "metadata": {
  "kernelspec": {
   "display_name": "Python 3.10.4 64-bit",
   "language": "python",
   "name": "python3"
  },
  "language_info": {
   "codemirror_mode": {
    "name": "ipython",
    "version": 3
   },
   "file_extension": ".py",
   "mimetype": "text/x-python",
   "name": "python",
   "nbconvert_exporter": "python",
   "pygments_lexer": "ipython3",
   "version": "3.10.4"
  },
  "orig_nbformat": 4,
  "vscode": {
   "interpreter": {
    "hash": "31f2aee4e71d21fbe5cf8b01ff0e069b9275f58929596ceb00d14d90e3e16cd6"
   }
  }
 },
 "nbformat": 4,
 "nbformat_minor": 2
}
