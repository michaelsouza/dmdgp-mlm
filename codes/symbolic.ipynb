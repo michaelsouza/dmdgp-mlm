{
 "cells": [
  {
   "cell_type": "code",
   "execution_count": null,
   "metadata": {},
   "outputs": [],
   "source": [
    "from sympy import *\n",
    "from dmdgp_ML import *\n",
    "import plotly.express as px\n",
    "import numpy as np\n",
    "import os"
   ]
  },
  {
   "cell_type": "markdown",
   "metadata": {},
   "source": [
    "# Missing Data"
   ]
  },
  {
   "cell_type": "code",
   "execution_count": null,
   "metadata": {},
   "outputs": [],
   "source": [
    "wdir = '/home/michael/gitrepos/dmdgp-mlm/DATA_D4_N100_S100'\n",
    "fn = os.path.join(wdir, 'pid_0000.nmr')\n",
    "D = read_nmr(fn)\n",
    "n = np.max(list(D.keys()))\n",
    "PID, Y = [], []\n",
    "FN = filter(lambda fn: fn.endswith('.nmr'), os.listdir(wdir))\n",
    "for fn in sorted(FN):    \n",
    "    pid = int(fn.replace('.nmr', '').split('_')[1])\n",
    "    fn = os.path.join(wdir, fn)\n",
    "    D = read_nmr(fn)\n",
    "    x, y = [i for i in range(4, n)], []\n",
    "    for i in x:\n",
    "        # only predecessors\n",
    "        S = [j for j in D[i] if j < i]        \n",
    "        y.append(len(S))\n",
    "    y = [v for v in y if v < 4]\n",
    "    Y.append(len(y))\n",
    "    PID.append(pid) \n",
    "df = {'NUM OF NODES WITHOUT 4 PREDECESSORS':Y, 'PID':PID}\n",
    "px.scatter(df,x='PID', y='NUM OF NODES WITHOUT 4 PREDECESSORS')\n"
   ]
  },
  {
   "cell_type": "code",
   "execution_count": null,
   "metadata": {},
   "outputs": [],
   "source": [
    "pid = 23\n",
    "fn = os.path.join(wdir, 'pid_%04d.nmr' % pid)\n",
    "D = read_nmr(fn)\n",
    "x, y, s = [], [], []\n",
    "for i in [i for i in range(4, n)]:\n",
    "    # only predecessors\n",
    "    S = [j for j in D[i] if j < i]    \n",
    "    x.append(i)\n",
    "    y.append(len(S))\n",
    "    s.append(len(S) >= 4)\n",
    "df = {'atom id':x,'#preds':y, '#preds >= 4':s}\n",
    "px.scatter(df, x='atom id', y='#preds', color='#preds >= 4', symbol='#preds >= 4')"
   ]
  },
  {
   "cell_type": "markdown",
   "metadata": {},
   "source": [
    "# Symbolic calculations"
   ]
  },
  {
   "cell_type": "markdown",
   "metadata": {},
   "source": [
    "## Naive Model\n",
    "\n",
    "$$f(x)= \\sum_{(i,j)\\in E} \\left(d_{ij}^2-\\sum_{k=1}^3(x_{ik}-x_{jk})^2\\right)^2$$"
   ]
  },
  {
   "cell_type": "code",
   "execution_count": null,
   "metadata": {},
   "outputs": [],
   "source": [
    "x = {}\n",
    "for i in range(5):\n",
    "    for j in range(3):\n",
    "        x[i,j] = symbols('x_%d_%d' % (i,j))\n",
    "x"
   ]
  },
  {
   "cell_type": "code",
   "execution_count": null,
   "metadata": {},
   "outputs": [],
   "source": [
    "D = {}"
   ]
  },
  {
   "cell_type": "code",
   "execution_count": null,
   "metadata": {},
   "outputs": [],
   "source": [
    "E = read_nmr('/home/michael/gitrepos/dmdgp-mlm/DATA_N5_S5/pid_0000.nmr')\n",
    "y = read_csv('/home/michael/gitrepos/dmdgp-mlm/DATA_N5_S5/pid_0001.csv')\n"
   ]
  },
  {
   "cell_type": "code",
   "execution_count": null,
   "metadata": {},
   "outputs": [],
   "source": [
    "D = {}\n",
    "for i in sorted(E):\n",
    "    D[i] = {}\n",
    "    for j in sorted(E[i]):\n",
    "        if j > i:\n",
    "            break\n",
    "        D[i][j] = symbols('D_%d_%d' % (i,j))\n",
    "D"
   ]
  },
  {
   "cell_type": "code",
   "execution_count": null,
   "metadata": {},
   "outputs": [],
   "source": [
    "def funF(D, x):\n",
    "    f = 0\n",
    "    for i in sorted(D):\n",
    "        for j in sorted(D[i]):\n",
    "            fij = (x[i, 0] - x[j, 0])**2 + (x[i, 1] - x[j, 1])**2 + (x[i, 2] - x[j, 2])**2\n",
    "            fij = fij - D[i][j]**2\n",
    "            f += fij**2\n",
    "    return f\n"
   ]
  },
  {
   "cell_type": "code",
   "execution_count": null,
   "metadata": {},
   "outputs": [],
   "source": [
    "f = funF(D, x)\n",
    "f"
   ]
  },
  {
   "cell_type": "code",
   "execution_count": null,
   "metadata": {},
   "outputs": [],
   "source": [
    "g = [f.diff(x[ij]) for ij in x]\n",
    "g"
   ]
  },
  {
   "cell_type": "code",
   "execution_count": null,
   "metadata": {},
   "outputs": [],
   "source": [
    "subs={x[ij]:y[ij] for ij in x}\n",
    "for i in D:\n",
    "    for j in D[i]:\n",
    "        subs[D[i][j]] = E[i][j]\n",
    "f.evalf(subs=subs)"
   ]
  },
  {
   "cell_type": "code",
   "execution_count": null,
   "metadata": {},
   "outputs": [],
   "source": [
    "G=[gij.evalf(subs=subs) for gij in g]\n",
    "G\n"
   ]
  },
  {
   "cell_type": "code",
   "execution_count": null,
   "metadata": {},
   "outputs": [],
   "source": []
  }
 ],
 "metadata": {
  "kernelspec": {
   "display_name": "Python 3.10.4 64-bit",
   "language": "python",
   "name": "python3"
  },
  "language_info": {
   "codemirror_mode": {
    "name": "ipython",
    "version": 3
   },
   "file_extension": ".py",
   "mimetype": "text/x-python",
   "name": "python",
   "nbconvert_exporter": "python",
   "pygments_lexer": "ipython3",
   "version": "3.10.4"
  },
  "orig_nbformat": 4,
  "vscode": {
   "interpreter": {
    "hash": "31f2aee4e71d21fbe5cf8b01ff0e069b9275f58929596ceb00d14d90e3e16cd6"
   }
  }
 },
 "nbformat": 4,
 "nbformat_minor": 2
}
