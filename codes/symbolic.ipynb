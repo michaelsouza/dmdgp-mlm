{
 "cells": [
  {
   "cell_type": "code",
   "execution_count": 15,
   "metadata": {},
   "outputs": [],
   "source": [
    "from sympy import *"
   ]
  },
  {
   "cell_type": "code",
   "execution_count": 21,
   "metadata": {},
   "outputs": [
    {
     "data": {
      "text/plain": [
       "{1: y1, 2: y2, 3: y3}"
      ]
     },
     "execution_count": 21,
     "metadata": {},
     "output_type": "execute_result"
    }
   ],
   "source": [
    "n = 3\n",
    "y = {i:symbols('y%d' % i) for i in range(1, n + 1)}\n",
    "y"
   ]
  },
  {
   "cell_type": "code",
   "execution_count": 19,
   "metadata": {},
   "outputs": [
    {
     "data": {
      "text/plain": [
       "{1: {1: t11, 2: t12, 3: t13},\n",
       " 2: {1: t21, 2: t22, 3: t23},\n",
       " 3: {1: t31, 2: t32, 3: t33},\n",
       " 4: {1: t41, 2: t42, 3: t43}}"
      ]
     },
     "execution_count": 19,
     "metadata": {},
     "output_type": "execute_result"
    }
   ],
   "source": [
    "k = 4\n",
    "t = {}\n",
    "for i in range(1, k + 1):\n",
    "    t[i] = {}\n",
    "    for j in range(1, n + 1):\n",
    "        t[i][j] = symbols('t%d%d' % (i, j))\n",
    "t"
   ]
  },
  {
   "cell_type": "code",
   "execution_count": 26,
   "metadata": {},
   "outputs": [
    {
     "data": {
      "text/latex": [
       "$\\displaystyle \\left(- d_{1} + \\left(- t_{11} + y_{1}\\right)^{2} + \\left(- t_{12} + y_{2}\\right)^{2} + \\left(- t_{13} + y_{3}\\right)^{2}\\right)^{2} + \\left(- d_{2} + \\left(- t_{21} + y_{1}\\right)^{2} + \\left(- t_{22} + y_{2}\\right)^{2} + \\left(- t_{23} + y_{3}\\right)^{2}\\right)^{2} + \\left(- d_{3} + \\left(- t_{31} + y_{1}\\right)^{2} + \\left(- t_{32} + y_{2}\\right)^{2} + \\left(- t_{33} + y_{3}\\right)^{2}\\right)^{2} + \\left(- d_{4} + \\left(- t_{41} + y_{1}\\right)^{2} + \\left(- t_{42} + y_{2}\\right)^{2} + \\left(- t_{43} + y_{3}\\right)^{2}\\right)^{2}$"
      ],
      "text/plain": [
       "(-d1 + (-t11 + y1)**2 + (-t12 + y2)**2 + (-t13 + y3)**2)**2 + (-d2 + (-t21 + y1)**2 + (-t22 + y2)**2 + (-t23 + y3)**2)**2 + (-d3 + (-t31 + y1)**2 + (-t32 + y2)**2 + (-t33 + y3)**2)**2 + (-d4 + (-t41 + y1)**2 + (-t42 + y2)**2 + (-t43 + y3)**2)**2"
      ]
     },
     "execution_count": 26,
     "metadata": {},
     "output_type": "execute_result"
    }
   ],
   "source": [
    "J = 0\n",
    "for i in range(1,k+1):\n",
    "    s = 0\n",
    "    for j in range(1,n+1):\n",
    "        s += (y[j] - t[i][j])**2\n",
    "    J += (s - symbols('d%d' % i))**2\n",
    "J        "
   ]
  },
  {
   "cell_type": "code",
   "execution_count": 27,
   "metadata": {},
   "outputs": [
    {
     "data": {
      "text/latex": [
       "$\\displaystyle \\left(- 4 t_{11} + 4 y_{1}\\right) \\left(- d_{1} + \\left(- t_{11} + y_{1}\\right)^{2} + \\left(- t_{12} + y_{2}\\right)^{2} + \\left(- t_{13} + y_{3}\\right)^{2}\\right) + \\left(- 4 t_{21} + 4 y_{1}\\right) \\left(- d_{2} + \\left(- t_{21} + y_{1}\\right)^{2} + \\left(- t_{22} + y_{2}\\right)^{2} + \\left(- t_{23} + y_{3}\\right)^{2}\\right) + \\left(- 4 t_{31} + 4 y_{1}\\right) \\left(- d_{3} + \\left(- t_{31} + y_{1}\\right)^{2} + \\left(- t_{32} + y_{2}\\right)^{2} + \\left(- t_{33} + y_{3}\\right)^{2}\\right) + \\left(- 4 t_{41} + 4 y_{1}\\right) \\left(- d_{4} + \\left(- t_{41} + y_{1}\\right)^{2} + \\left(- t_{42} + y_{2}\\right)^{2} + \\left(- t_{43} + y_{3}\\right)^{2}\\right)$"
      ],
      "text/plain": [
       "(-4*t11 + 4*y1)*(-d1 + (-t11 + y1)**2 + (-t12 + y2)**2 + (-t13 + y3)**2) + (-4*t21 + 4*y1)*(-d2 + (-t21 + y1)**2 + (-t22 + y2)**2 + (-t23 + y3)**2) + (-4*t31 + 4*y1)*(-d3 + (-t31 + y1)**2 + (-t32 + y2)**2 + (-t33 + y3)**2) + (-4*t41 + 4*y1)*(-d4 + (-t41 + y1)**2 + (-t42 + y2)**2 + (-t43 + y3)**2)"
      ]
     },
     "execution_count": 27,
     "metadata": {},
     "output_type": "execute_result"
    }
   ],
   "source": [
    "diff(J, y[1])"
   ]
  },
  {
   "cell_type": "code",
   "execution_count": null,
   "metadata": {},
   "outputs": [],
   "source": []
  }
 ],
 "metadata": {
  "kernelspec": {
   "display_name": "Python 3.10.4 64-bit",
   "language": "python",
   "name": "python3"
  },
  "language_info": {
   "codemirror_mode": {
    "name": "ipython",
    "version": 3
   },
   "file_extension": ".py",
   "mimetype": "text/x-python",
   "name": "python",
   "nbconvert_exporter": "python",
   "pygments_lexer": "ipython3",
   "version": "3.10.4"
  },
  "orig_nbformat": 4,
  "vscode": {
   "interpreter": {
    "hash": "31f2aee4e71d21fbe5cf8b01ff0e069b9275f58929596ceb00d14d90e3e16cd6"
   }
  }
 },
 "nbformat": 4,
 "nbformat_minor": 2
}
